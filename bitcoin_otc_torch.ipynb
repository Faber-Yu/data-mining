{
  "nbformat": 4,
  "nbformat_minor": 0,
  "metadata": {
    "colab": {
      "provenance": [],
      "gpuType": "T4"
    },
    "kernelspec": {
      "name": "python3",
      "display_name": "Python 3"
    },
    "language_info": {
      "name": "python"
    },
    "accelerator": "GPU"
  },
  "cells": [
    {
      "cell_type": "code",
      "execution_count": 1,
      "metadata": {
        "colab": {
          "base_uri": "https://localhost:8080/"
        },
        "id": "j4PrDKr12XcO",
        "outputId": "c85c1080-ebcc-4afc-d58e-1d1f4c1897f2"
      },
      "outputs": [
        {
          "output_type": "stream",
          "name": "stdout",
          "text": [
            "Mounted at /content/drive\n"
          ]
        }
      ],
      "source": [
        "import os\n",
        "import numpy as np\n",
        "import pandas as pd\n",
        "import torch\n",
        "import torch.nn as nn\n",
        "import torch.optim as optim\n",
        "from sklearn.model_selection import train_test_split\n",
        "from sklearn import metrics\n",
        "from torch.utils.data import DataLoader, Dataset\n",
        "import math\n",
        "from google.colab import drive\n",
        "drive.mount('/content/drive')"
      ]
    },
    {
      "cell_type": "code",
      "source": [
        "ATTRIBUTES = ['SOURCE', 'TARGET', 'RATING', 'TIME']\n",
        "FEATURE_ATTRIBUTES = ATTRIBUTES[:2]\n",
        "TARGET_ATTRIBUTE = ATTRIBUTES[2]"
      ],
      "metadata": {
        "id": "WAEvi4iQ3cRS"
      },
      "execution_count": 2,
      "outputs": []
    },
    {
      "cell_type": "code",
      "source": [
        "class BitcoinOTCDataset(Dataset):\n",
        "    def __init__(self, data):\n",
        "        self.sources = data['SOURCE'].values.astype(np.int64)\n",
        "        self.targets = data['TARGET'].values.astype(np.int64)\n",
        "        self.ratings = data['RATING'].values.astype(np.float32)\n",
        "\n",
        "    def __len__(self):\n",
        "        return len(self.sources)\n",
        "\n",
        "    def __getitem__(self, idx):\n",
        "        return self.sources[idx], self.targets[idx], self.ratings[idx]"
      ],
      "metadata": {
        "id": "QYLn6tNi2yrT"
      },
      "execution_count": 6,
      "outputs": []
    },
    {
      "cell_type": "code",
      "source": [
        "def read_file(data_file):\n",
        "    return pd.read_csv(data_file, names=ATTRIBUTES, skiprows=1)\n",
        "\n",
        "def normalize_ratings(ratings):\n",
        "    min_rating = ratings.min()\n",
        "    max_rating = ratings.max()\n",
        "    return 2 * (ratings - min_rating) / (max_rating - min_rating) - 1\n",
        "\n",
        "class ModelR(nn.Module):\n",
        "    def __init__(self, num_nodes, layer_size, num_hidden_layers):\n",
        "        super(ModelR, self).__init__()\n",
        "        self.source_embedding = nn.Embedding(num_nodes, layer_size)\n",
        "        self.target_embedding = nn.Embedding(num_nodes, layer_size)\n",
        "\n",
        "        layers = []\n",
        "        input_size = 2 * layer_size\n",
        "        for _ in range(num_hidden_layers):\n",
        "            layers.append(nn.Linear(input_size, layer_size))\n",
        "            layers.append(nn.ReLU())\n",
        "            input_size = layer_size\n",
        "        layers.append(nn.Linear(input_size, 1))\n",
        "        self.network = nn.Sequential(*layers)\n",
        "\n",
        "    def forward(self, source, target):\n",
        "        source_vec = self.source_embedding(source)\n",
        "        target_vec = self.target_embedding(target)\n",
        "        combined = torch.cat([source_vec, target_vec], dim=1)\n",
        "        return self.network(combined)\n",
        "\n",
        "def train_model(model, dataloader, criterion, optimizer, device):\n",
        "    model.train()\n",
        "    total_loss = 0\n",
        "    for source, target, rating in dataloader:\n",
        "        source, target, rating = source.to(device), target.to(device), rating.to(device)\n",
        "        optimizer.zero_grad()\n",
        "        output = model(source, target).squeeze()\n",
        "        loss = criterion(output, rating)\n",
        "        loss.backward()\n",
        "        optimizer.step()\n",
        "        total_loss += loss.item()\n",
        "    return total_loss / len(dataloader)\n",
        "\n",
        "def evaluate_model(model, dataloader, device):\n",
        "    model.eval()\n",
        "    predictions = []\n",
        "    targets = []\n",
        "    with torch.no_grad():\n",
        "        for source, target, rating in dataloader:\n",
        "            source, target, rating = source.to(device), target.to(device), rating.to(device)\n",
        "            output = model(source, target).squeeze()\n",
        "            predictions.append(output.cpu().numpy())\n",
        "            targets.append(rating.cpu().numpy())\n",
        "    predictions = np.concatenate(predictions)\n",
        "    targets = np.concatenate(targets)\n",
        "    mse = metrics.mean_squared_error(targets, predictions)\n",
        "    return mse, predictions, targets\n"
      ],
      "metadata": {
        "id": "jwAqKScz3f1h"
      },
      "execution_count": 4,
      "outputs": []
    },
    {
      "cell_type": "code",
      "source": [
        "def main():\n",
        "    data_file = '/content/drive/My Drive/datamining/soc-sign-bitcoinotc.csv'\n",
        "    data_set = read_file(data_file)\n",
        "    data_set[TARGET_ATTRIBUTE] = normalize_ratings(data_set[TARGET_ATTRIBUTE])\n",
        "\n",
        "    num_nodes = max(data_set['SOURCE'].max(), data_set['TARGET'].max()) + 1\n",
        "\n",
        "    train, test = train_test_split(data_set, test_size=0.2)\n",
        "    train, validate = train_test_split(train, test_size=0.125)  # 0.125 * 80% = 10%\n",
        "\n",
        "    train_dataset = BitcoinOTCDataset(train)\n",
        "    validate_dataset = BitcoinOTCDataset(validate)\n",
        "    test_dataset = BitcoinOTCDataset(test)\n",
        "\n",
        "    train_loader = DataLoader(train_dataset, batch_size=32, shuffle=True)\n",
        "    validate_loader = DataLoader(validate_dataset, batch_size=32, shuffle=False)\n",
        "    test_loader = DataLoader(test_dataset, batch_size=32, shuffle=False)\n",
        "\n",
        "    device = torch.device('cuda' if torch.cuda.is_available() else 'cpu')\n",
        "    layer_size = int(math.log2(len(train_dataset)))\n",
        "    num_hidden_layers = 3\n",
        "    num_epochs = 20\n",
        "\n",
        "    model = ModelR(num_nodes, layer_size, num_hidden_layers).to(device)\n",
        "    criterion = nn.MSELoss()\n",
        "    optimizer = optim.Adam(model.parameters(), lr=0.001)\n",
        "\n",
        "    best_val_loss = float('inf')\n",
        "    for epoch in range(num_epochs):\n",
        "        train_loss = train_model(model, train_loader, criterion, optimizer, device)\n",
        "        val_loss, _, _ = evaluate_model(model, validate_loader, device)\n",
        "        print(f'Epoch {epoch+1}/{num_epochs}, Train Loss: {train_loss}, Validation Loss: {val_loss}')\n",
        "\n",
        "        if val_loss < best_val_loss:\n",
        "            best_val_loss = val_loss\n",
        "            torch.save(model.state_dict(), 'best_model.pth')\n",
        "\n",
        "    model.load_state_dict(torch.load('best_model.pth'))\n",
        "    test_mse, predictions, targets = evaluate_model(model, test_loader, device)\n",
        "    print(f'Mean Squared Error on Test Set: {test_mse}')\n",
        "\n",
        "if __name__ == '__main__':\n",
        "    main()"
      ],
      "metadata": {
        "colab": {
          "base_uri": "https://localhost:8080/"
        },
        "id": "1Ix0_ZQ33jiU",
        "outputId": "e47cf09a-a201-4877-8b14-16a642aa1489"
      },
      "execution_count": 7,
      "outputs": [
        {
          "output_type": "stream",
          "name": "stdout",
          "text": [
            "Epoch 1/20, Train Loss: 0.1239828199772248, Validation Loss: 0.12484066188335419\n",
            "Epoch 2/20, Train Loss: 0.11563097666686016, Validation Loss: 0.11691176891326904\n",
            "Epoch 3/20, Train Loss: 0.10500162123285224, Validation Loss: 0.10966543853282928\n",
            "Epoch 4/20, Train Loss: 0.0967426047097313, Validation Loss: 0.105322927236557\n",
            "Epoch 5/20, Train Loss: 0.09035066033645374, Validation Loss: 0.10549129545688629\n",
            "Epoch 6/20, Train Loss: 0.08452086784758525, Validation Loss: 0.10259958356618881\n",
            "Epoch 7/20, Train Loss: 0.07921163422271935, Validation Loss: 0.10369354486465454\n",
            "Epoch 8/20, Train Loss: 0.074245868229208, Validation Loss: 0.10234261304140091\n",
            "Epoch 9/20, Train Loss: 0.0699896227271895, Validation Loss: 0.10481933504343033\n",
            "Epoch 10/20, Train Loss: 0.06562960951496992, Validation Loss: 0.1047307699918747\n",
            "Epoch 11/20, Train Loss: 0.06157644573881246, Validation Loss: 0.10935028642416\n",
            "Epoch 12/20, Train Loss: 0.057707972121598325, Validation Loss: 0.10799530148506165\n",
            "Epoch 13/20, Train Loss: 0.05425138076269982, Validation Loss: 0.11091550439596176\n",
            "Epoch 14/20, Train Loss: 0.051203895611293966, Validation Loss: 0.11806483566761017\n",
            "Epoch 15/20, Train Loss: 0.04809492245012839, Validation Loss: 0.11551179736852646\n",
            "Epoch 16/20, Train Loss: 0.04527548595005228, Validation Loss: 0.12235651910305023\n",
            "Epoch 17/20, Train Loss: 0.04264547490898582, Validation Loss: 0.1227215975522995\n",
            "Epoch 18/20, Train Loss: 0.040169606458716124, Validation Loss: 0.12494214624166489\n",
            "Epoch 19/20, Train Loss: 0.03793049599755369, Validation Loss: 0.1256341189146042\n",
            "Epoch 20/20, Train Loss: 0.03601210739520953, Validation Loss: 0.12919776141643524\n",
            "Mean Squared Error on Test Set: 0.1063876524567604\n"
          ]
        }
      ]
    },
    {
      "cell_type": "code",
      "source": [
        "def main():\n",
        "    data_file = '/content/drive/My Drive/datamining/soc-sign-bitcoinotc.csv'\n",
        "    data_set = read_file(data_file)\n",
        "    data_set[TARGET_ATTRIBUTE] = normalize_ratings(data_set[TARGET_ATTRIBUTE])\n",
        "\n",
        "    num_nodes = max(data_set['SOURCE'].max(), data_set['TARGET'].max()) + 1\n",
        "\n",
        "    train, test = train_test_split(data_set, test_size=0.2)\n",
        "    train, validate = train_test_split(train, test_size=0.125)  # 0.125 * 80% = 10%\n",
        "\n",
        "    train_dataset = BitcoinOTCDataset(train)\n",
        "    validate_dataset = BitcoinOTCDataset(validate)\n",
        "    test_dataset = BitcoinOTCDataset(test)\n",
        "\n",
        "    train_loader = DataLoader(train_dataset, batch_size=32, shuffle=True)\n",
        "    validate_loader = DataLoader(validate_dataset, batch_size=32, shuffle=False)\n",
        "    test_loader = DataLoader(test_dataset, batch_size=32, shuffle=False)\n",
        "\n",
        "    device = torch.device('cuda' if torch.cuda.is_available() else 'cpu')\n",
        "    layer_size = int(math.log2(len(train_dataset)))\n",
        "    num_hidden_layers = 4\n",
        "    num_epochs = 20\n",
        "\n",
        "    model = ModelR(num_nodes, layer_size, num_hidden_layers).to(device)\n",
        "    criterion = nn.MSELoss()\n",
        "    optimizer = optim.Adam(model.parameters(), lr=0.001)\n",
        "\n",
        "    best_val_loss = float('inf')\n",
        "    for epoch in range(num_epochs):\n",
        "        train_loss = train_model(model, train_loader, criterion, optimizer, device)\n",
        "        val_loss, _, _ = evaluate_model(model, validate_loader, device)\n",
        "        print(f'Epoch {epoch+1}/{num_epochs}, Train Loss: {train_loss}, Validation Loss: {val_loss}')\n",
        "\n",
        "        if val_loss < best_val_loss:\n",
        "            best_val_loss = val_loss\n",
        "            torch.save(model.state_dict(), 'best_model.pth')\n",
        "\n",
        "    model.load_state_dict(torch.load('best_model.pth'))\n",
        "    test_mse, predictions, targets = evaluate_model(model, test_loader, device)\n",
        "    print(f'Mean Squared Error on Test Set: {test_mse}')\n",
        "\n",
        "if __name__ == '__main__':\n",
        "    main()"
      ],
      "metadata": {
        "colab": {
          "base_uri": "https://localhost:8080/"
        },
        "id": "9tIa1Fpa4-Li",
        "outputId": "549a2fb2-d569-48f6-b1f3-3cae9727216a"
      },
      "execution_count": 8,
      "outputs": [
        {
          "output_type": "stream",
          "name": "stdout",
          "text": [
            "Epoch 1/20, Train Loss: 0.12694358379270437, Validation Loss: 0.12471532076597214\n",
            "Epoch 2/20, Train Loss: 0.11956258418590825, Validation Loss: 0.11771056056022644\n",
            "Epoch 3/20, Train Loss: 0.10916073635980889, Validation Loss: 0.11204668879508972\n",
            "Epoch 4/20, Train Loss: 0.09892396211196143, Validation Loss: 0.10788028687238693\n",
            "Epoch 5/20, Train Loss: 0.0915631172061923, Validation Loss: 0.1055864617228508\n",
            "Epoch 6/20, Train Loss: 0.085112581764789, Validation Loss: 0.10705506056547165\n",
            "Epoch 7/20, Train Loss: 0.07987717756121605, Validation Loss: 0.10824032872915268\n",
            "Epoch 8/20, Train Loss: 0.075276545848487, Validation Loss: 0.1049102395772934\n",
            "Epoch 9/20, Train Loss: 0.07059848117277466, Validation Loss: 0.10725151002407074\n",
            "Epoch 10/20, Train Loss: 0.06693408270790906, Validation Loss: 0.10571295768022537\n",
            "Epoch 11/20, Train Loss: 0.06299944507168541, Validation Loss: 0.11059458553791046\n",
            "Epoch 12/20, Train Loss: 0.05940645471255896, Validation Loss: 0.10796263068914413\n",
            "Epoch 13/20, Train Loss: 0.056093771345985144, Validation Loss: 0.11376167088747025\n",
            "Epoch 14/20, Train Loss: 0.05293517949750626, Validation Loss: 0.11495387554168701\n",
            "Epoch 15/20, Train Loss: 0.04994723637766457, Validation Loss: 0.11909045279026031\n",
            "Epoch 16/20, Train Loss: 0.047396527967907116, Validation Loss: 0.11804619431495667\n",
            "Epoch 17/20, Train Loss: 0.04524464890317793, Validation Loss: 0.11905740201473236\n",
            "Epoch 18/20, Train Loss: 0.04256643258592303, Validation Loss: 0.13133881986141205\n",
            "Epoch 19/20, Train Loss: 0.04081819885331463, Validation Loss: 0.11763747036457062\n",
            "Epoch 20/20, Train Loss: 0.03920425432291843, Validation Loss: 0.1289595663547516\n",
            "Mean Squared Error on Test Set: 0.10089743882417679\n"
          ]
        }
      ]
    }
  ]
}