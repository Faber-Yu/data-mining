{
 "cells": [
  {
   "cell_type": "code",
   "execution_count": 3,
   "id": "83af7155",
   "metadata": {},
   "outputs": [],
   "source": [
    "import networkx as nx\n",
    "import pandas as pd"
   ]
  },
  {
   "cell_type": "code",
   "execution_count": 28,
   "id": "677f7d83",
   "metadata": {},
   "outputs": [
    {
     "name": "stdout",
     "output_type": "stream",
     "text": [
      "       SOURCE  TARGET  RATING   TIMESTAMP        DATE\n",
      "0           6       2       4  1289241912  08/11/2010\n",
      "1           6       5       2  1289241942  08/11/2010\n",
      "2           1      15       1  1289243140  08/11/2010\n",
      "3           4       3       7  1289245277  08/11/2010\n",
      "4          13      16       8  1289254254  08/11/2010\n",
      "...       ...     ...     ...         ...         ...\n",
      "35587    4499    1810       1  1453612482  24/01/2016\n",
      "35588    2731    3901       5  1453679428  24/01/2016\n",
      "35589    2731    4897       5  1453679434  24/01/2016\n",
      "35590      13    1128       1  1453679633  24/01/2016\n",
      "35591    1128      13       2  1453684324  25/01/2016\n",
      "\n",
      "[35592 rows x 5 columns]\n"
     ]
    }
   ],
   "source": [
    "df = pd.read_csv('soc-sign-bitcoinotc.csv', names=['SOURCE', 'TARGET', 'RATING', 'TIMESTAMP'], header=None)\n",
    "df['DATE'] = pd.to_datetime(df['TIMESTAMP'], unit='s').dt.strftime('%d/%m/%Y')\n",
    "print(df)"
   ]
  },
  {
   "cell_type": "code",
   "execution_count": 30,
   "id": "5b0a7f93",
   "metadata": {},
   "outputs": [
    {
     "name": "stdout",
     "output_type": "stream",
     "text": [
      "      SOURCE  TARGET  RATING   TIMESTAMP       DATE\n",
      "0          6       2       4  1289241912 2010-11-08\n",
      "1          6       5       2  1289241942 2010-11-08\n",
      "2          1      15       1  1289243140 2010-11-08\n",
      "3          4       3       7  1289245277 2010-11-08\n",
      "4         13      16       8  1289254254 2010-11-08\n",
      "...      ...     ...     ...         ...        ...\n",
      "7895    1676    1585       1  1325301619 2011-12-31\n",
      "7896    1396    1672       1  1325304037 2011-12-31\n",
      "7897    1672    1396       1  1325304328 2011-12-31\n",
      "7898    1672      57       1  1325359353 2011-12-31\n",
      "7899    1629    1396       1  1325370257 2011-12-31\n",
      "\n",
      "[7900 rows x 5 columns]\n"
     ]
    }
   ],
   "source": [
    "df['DATE'] = pd.to_datetime(df['DATE'], format='%d/%m/%Y')\n",
    "\n",
    "# 筛选2011年和2012年的数据\n",
    "df_filtered = df[(df['DATE'].dt.year == 2010) | (df['DATE'].dt.year == 2011)]\n",
    "print(df_filtered)"
   ]
  },
  {
   "cell_type": "code",
   "execution_count": 31,
   "id": "de903599",
   "metadata": {},
   "outputs": [],
   "source": [
    "G = nx.DiGraph()\n",
    "for index, row in df_filtered.iterrows():\n",
    "    # 添加带权重的边，权重为评分\n",
    "    G.add_edge(row['SOURCE'], row['TARGET'], weight=row['RATING'])"
   ]
  },
  {
   "cell_type": "code",
   "execution_count": 32,
   "id": "8c192248",
   "metadata": {},
   "outputs": [],
   "source": [
    "min_weight = min(df_filtered['RATING'])\n",
    "shift = 0 if min_weight > 0 else -min_weight\n",
    "\n",
    "for u, v, d in G.edges(data=True):\n",
    "    d['weight'] = d['weight'] + shift + 1  # 加1确保权重为正\n"
   ]
  },
  {
   "cell_type": "code",
   "execution_count": 33,
   "id": "38ba1cea",
   "metadata": {},
   "outputs": [],
   "source": [
    "pagerank_values = nx.pagerank(G, alpha=0.85, personalization=None, weight='weight')"
   ]
  },
  {
   "cell_type": "code",
   "execution_count": 34,
   "id": "dbcb2595",
   "metadata": {},
   "outputs": [
    {
     "name": "stdout",
     "output_type": "stream",
     "text": [
      "Node 7 has a PageRank of 0.0214\n",
      "Node 1 has a PageRank of 0.0153\n",
      "Node 35 has a PageRank of 0.0116\n",
      "Node 832 has a PageRank of 0.0090\n",
      "Node 202 has a PageRank of 0.0087\n",
      "Node 1162 has a PageRank of 0.0081\n",
      "Node 60 has a PageRank of 0.0077\n",
      "Node 1566 has a PageRank of 0.0070\n",
      "Node 1386 has a PageRank of 0.0066\n",
      "Node 41 has a PageRank of 0.0064\n"
     ]
    }
   ],
   "source": [
    "pagerank_sorted = sorted(pagerank_values.items(), key=lambda x: x[1], reverse=True)\n",
    "for node, score in pagerank_sorted[:10]:  # 显示前10个节点\n",
    "    print(f'Node {node} has a PageRank of {score:.4f}')"
   ]
  },
  {
   "cell_type": "code",
   "execution_count": 35,
   "id": "b31df059",
   "metadata": {},
   "outputs": [
    {
     "name": "stdout",
     "output_type": "stream",
     "text": [
      "       SOURCE  TARGET  RATING   TIMESTAMP       DATE\n",
      "0           6       2       4  1289241912 2010-11-08\n",
      "1           6       5       2  1289241942 2010-11-08\n",
      "2           1      15       1  1289243140 2010-11-08\n",
      "3           4       3       7  1289245277 2010-11-08\n",
      "4          13      16       8  1289254254 2010-11-08\n",
      "...       ...     ...     ...         ...        ...\n",
      "30309    5258    2635       1  1388516464 2013-12-31\n",
      "30310    4925    4197       1  1388517755 2013-12-31\n",
      "30311    4197    4925       1  1388517824 2013-12-31\n",
      "30312     468    5255       1  1388526154 2013-12-31\n",
      "30313    5255     468       1  1388526228 2013-12-31\n",
      "\n",
      "[30314 rows x 5 columns]\n"
     ]
    }
   ],
   "source": [
    "# 筛选2011年和2012年的数据\n",
    "df_2 = df[(df['DATE'].dt.year == 2010) | (df['DATE'].dt.year == 2011)|(df['DATE'].dt.year == 2012)|(df['DATE'].dt.year == 2013)]\n",
    "print(df_2)"
   ]
  },
  {
   "cell_type": "code",
   "execution_count": 36,
   "id": "5ea125cb",
   "metadata": {},
   "outputs": [],
   "source": [
    "G = nx.DiGraph()\n",
    "for index, row in df_2.iterrows():\n",
    "    # 添加带权重的边，权重为评分\n",
    "    G.add_edge(row['SOURCE'], row['TARGET'], weight=row['RATING'])"
   ]
  },
  {
   "cell_type": "code",
   "execution_count": 37,
   "id": "bef16225",
   "metadata": {},
   "outputs": [],
   "source": [
    "min_weight = min(df_2['RATING'])\n",
    "shift = 0 if min_weight > 0 else -min_weight\n",
    "\n",
    "for u, v, d in G.edges(data=True):\n",
    "    d['weight'] = d['weight'] + shift + 1  # 加1确保权重为正\n"
   ]
  },
  {
   "cell_type": "code",
   "execution_count": 38,
   "id": "94d584c5",
   "metadata": {},
   "outputs": [],
   "source": [
    "pagerank_values = nx.pagerank(G, alpha=0.85, personalization=None, weight='weight')"
   ]
  },
  {
   "cell_type": "code",
   "execution_count": 39,
   "id": "fc15a830",
   "metadata": {},
   "outputs": [
    {
     "name": "stdout",
     "output_type": "stream",
     "text": [
      "Node 35 has a PageRank of 0.0157\n",
      "Node 2642 has a PageRank of 0.0132\n",
      "Node 2028 has a PageRank of 0.0075\n",
      "Node 7 has a PageRank of 0.0071\n",
      "Node 1810 has a PageRank of 0.0071\n",
      "Node 1 has a PageRank of 0.0062\n",
      "Node 1953 has a PageRank of 0.0059\n",
      "Node 905 has a PageRank of 0.0054\n",
      "Node 2125 has a PageRank of 0.0051\n",
      "Node 4172 has a PageRank of 0.0051\n"
     ]
    }
   ],
   "source": [
    "pagerank_sorted = sorted(pagerank_values.items(), key=lambda x: x[1], reverse=True)\n",
    "for node, score in pagerank_sorted[:10]:  # 显示前10个节点\n",
    "    print(f'Node {node} has a PageRank of {score:.4f}')"
   ]
  },
  {
   "cell_type": "code",
   "execution_count": 40,
   "id": "85dbf102",
   "metadata": {},
   "outputs": [
    {
     "name": "stdout",
     "output_type": "stream",
     "text": [
      "Collecting python-louvain\n",
      "  Downloading python-louvain-0.16.tar.gz (204 kB)\n",
      "\u001b[2K     \u001b[90m━━━━━━━━━━━━━━━━━━━━━━━━━━━━━━━━━━━━━━━\u001b[0m \u001b[32m204.6/204.6 kB\u001b[0m \u001b[31m7.8 MB/s\u001b[0m eta \u001b[36m0:00:00\u001b[0m\n",
      "\u001b[?25h  Preparing metadata (setup.py) ... \u001b[?25ldone\n",
      "\u001b[?25hRequirement already satisfied: networkx in /Users/faber/Documents/software/anaconda3/envs/Prg_data/lib/python3.8/site-packages (3.1)\n",
      "Requirement already satisfied: numpy in /Users/faber/Documents/software/anaconda3/envs/Prg_data/lib/python3.8/site-packages (from python-louvain) (1.24.3)\n",
      "Building wheels for collected packages: python-louvain\n",
      "  Building wheel for python-louvain (setup.py) ... \u001b[?25ldone\n",
      "\u001b[?25h  Created wheel for python-louvain: filename=python_louvain-0.16-py3-none-any.whl size=9389 sha256=4ee694854a76cc6d1aa3d02fc84d6cdf6170679391ecdb6d5da5bc636041bac0\n",
      "  Stored in directory: /Users/faber/Library/Caches/pip/wheels/af/40/91/ef3635f7d3ddbd889b5af9f1ac22b8d30c48d6f744cd74a6d1\n",
      "Successfully built python-louvain\n",
      "Installing collected packages: python-louvain\n",
      "Successfully installed python-louvain-0.16\n",
      "Note: you may need to restart the kernel to use updated packages.\n"
     ]
    }
   ],
   "source": [
    "pip install python-louvain networkx"
   ]
  },
  {
   "cell_type": "code",
   "execution_count": 41,
   "id": "21426351",
   "metadata": {},
   "outputs": [
    {
     "name": "stdout",
     "output_type": "stream",
     "text": [
      "Community partition:\n",
      "Node 0: Community 0\n",
      "Node 1: Community 0\n",
      "Node 2: Community 0\n",
      "Node 3: Community 0\n",
      "Node 4: Community 2\n",
      "Node 5: Community 2\n",
      "Node 6: Community 2\n",
      "Node 7: Community 0\n",
      "Node 8: Community 3\n",
      "Node 9: Community 3\n",
      "Node 10: Community 2\n",
      "Node 11: Community 0\n",
      "Node 12: Community 0\n",
      "Node 13: Community 0\n",
      "Node 14: Community 3\n",
      "Node 15: Community 3\n",
      "Node 16: Community 2\n",
      "Node 17: Community 0\n",
      "Node 18: Community 3\n",
      "Node 19: Community 0\n",
      "Node 20: Community 3\n",
      "Node 21: Community 0\n",
      "Node 22: Community 3\n",
      "Node 23: Community 3\n",
      "Node 24: Community 1\n",
      "Node 25: Community 1\n",
      "Node 26: Community 3\n",
      "Node 27: Community 3\n",
      "Node 28: Community 1\n",
      "Node 29: Community 3\n",
      "Node 30: Community 3\n",
      "Node 31: Community 1\n",
      "Node 32: Community 3\n",
      "Node 33: Community 3\n"
     ]
    },
    {
     "ename": "NameError",
     "evalue": "name 'cm' is not defined",
     "output_type": "error",
     "traceback": [
      "\u001b[0;31m---------------------------------------------------------------------------\u001b[0m",
      "\u001b[0;31mNameError\u001b[0m                                 Traceback (most recent call last)",
      "Cell \u001b[0;32mIn[41], line 18\u001b[0m\n\u001b[1;32m     16\u001b[0m \u001b[38;5;66;03m# 可视化结果\u001b[39;00m\n\u001b[1;32m     17\u001b[0m pos \u001b[38;5;241m=\u001b[39m nx\u001b[38;5;241m.\u001b[39mspring_layout(G)\n\u001b[0;32m---> 18\u001b[0m cmap \u001b[38;5;241m=\u001b[39m \u001b[43mcm\u001b[49m\u001b[38;5;241m.\u001b[39mget_cmap(\u001b[38;5;124m'\u001b[39m\u001b[38;5;124mviridis\u001b[39m\u001b[38;5;124m'\u001b[39m, \u001b[38;5;28mmax\u001b[39m(partition\u001b[38;5;241m.\u001b[39mvalues()) \u001b[38;5;241m+\u001b[39m \u001b[38;5;241m1\u001b[39m)\n\u001b[1;32m     19\u001b[0m nx\u001b[38;5;241m.\u001b[39mdraw_networkx_nodes(G, pos, partition\u001b[38;5;241m.\u001b[39mkeys(), node_size\u001b[38;5;241m=\u001b[39m\u001b[38;5;241m40\u001b[39m,\n\u001b[1;32m     20\u001b[0m                        cmap\u001b[38;5;241m=\u001b[39mcmap, node_color\u001b[38;5;241m=\u001b[39m\u001b[38;5;28mlist\u001b[39m(partition\u001b[38;5;241m.\u001b[39mvalues()))\n\u001b[1;32m     21\u001b[0m nx\u001b[38;5;241m.\u001b[39mdraw_networkx_edges(G, pos, alpha\u001b[38;5;241m=\u001b[39m\u001b[38;5;241m0.5\u001b[39m)\n",
      "\u001b[0;31mNameError\u001b[0m: name 'cm' is not defined"
     ]
    }
   ],
   "source": [
    "import networkx as nx\n",
    "import community as community_louvain\n",
    "import matplotlib.pyplot as plt\n",
    "\n",
    "# 创建一个示例图\n",
    "G = nx.karate_club_graph()\n",
    "\n",
    "# 使用Louvain方法进行社区检测\n",
    "partition = community_louvain.best_partition(G)\n",
    "\n",
    "# 打印社区分配结果\n",
    "print(\"Community partition:\")\n",
    "for node, com_id in partition.items():\n",
    "    print(f\"Node {node}: Community {com_id}\")\n",
    "\n",
    "# 可视化结果\n",
    "pos = nx.spring_layout(G)\n",
    "cmap = cm.get_cmap('viridis', max(partition.values()) + 1)\n",
    "nx.draw_networkx_nodes(G, pos, partition.keys(), node_size=40,\n",
    "                       cmap=cmap, node_color=list(partition.values()))\n",
    "nx.draw_networkx_edges(G, pos, alpha=0.5)\n",
    "plt.show()\n"
   ]
  },
  {
   "cell_type": "code",
   "execution_count": null,
   "id": "62027a97",
   "metadata": {},
   "outputs": [],
   "source": []
  }
 ],
 "metadata": {
  "kernelspec": {
   "display_name": "Python 3 (ipykernel)",
   "language": "python",
   "name": "python3"
  },
  "language_info": {
   "codemirror_mode": {
    "name": "ipython",
    "version": 3
   },
   "file_extension": ".py",
   "mimetype": "text/x-python",
   "name": "python",
   "nbconvert_exporter": "python",
   "pygments_lexer": "ipython3",
   "version": "3.8.18"
  }
 },
 "nbformat": 4,
 "nbformat_minor": 5
}
